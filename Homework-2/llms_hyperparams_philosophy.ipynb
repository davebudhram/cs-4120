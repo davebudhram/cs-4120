{
 "cells": [
  {
   "cell_type": "markdown",
   "metadata": {},
   "source": [
    "Homework 2: LLMs Experiments & Hyperparameters, LLMs Philosophy\n",
    "----\n",
    "\n",
    "Due date: September 20th, 2023\n",
    "\n",
    "Points: 60 \n",
    "\n",
    "Goals:\n",
    "- explore and understand some of the hyperparameters available to you with LLMs\n",
    "- consider more deeply the philosophy of AI and LLMs\n",
    "\n",
    "\n",
    "Complete in groups of: __one (individually)__\n",
    "\n",
    "Allowed python modules:\n",
    "- You are not to use a library's implementation of `softmax`. You may use the `random` and `numpy` libraries in this assignment.\n",
    "\n",
    "Instructions:\n",
    "- Complete outlined problems in this notebook. \n",
    "- When you have finished, __clear the kernel__ and __run__ your notebook \"fresh\" from top to bottom. Ensure that there are __no errors__. \n",
    "    - If a problem asks for you to write code that does result in an error (as in, the answer to the problem is an error), leave the code in your notebook but commented out so that running from top to bottom does not result in any errors.\n",
    "- Double check that you have completed Task 0.\n",
    "- Submit your work on Gradescope.\n",
    "- Double check that your submission on Gradescope looks like you believe it should __and__ that all partners are included (for partner work).\n",
    "\n",
    "6120 students: complete __all__ problems.\n",
    "\n",
    "4120 students: you are not required to complete problems marked \"CS 6120 REQUIRED\". If you complete these you will not get extra credit. We will not take points off if you attempt these problems and do not succeed.\n"
   ]
  },
  {
   "cell_type": "markdown",
   "metadata": {},
   "source": [
    "Task 0: Name, References, Reflection (5 points)\n",
    "---\n",
    "\n",
    "TODO: complete this section\n",
    "\n",
    "Name: Dave Budhram\n",
    "\n",
    "References\n",
    "---\n",
    "List the resources you consulted to complete this homework here. Write one sentence per resource about what it provided to you. If you consulted no references to complete your assignment, write a brief sentence stating that this is the case and why it was the case for you.\n",
    "\n",
    "(Example)\n",
    "- https://matplotlib.org/stable/api/_as_gen/matplotlib.pyplot.subplot.html\n",
    "    - Read about how to use subplot for my bargraphs in task 2\n",
    "- https://python-graph-gallery.com/3-control-color-of-barplots/\n",
    "    - Read about how to use different colors because I wanted different z-values to have different colors to make it easier to read.\n",
    "\n",
    "AI Collaboration\n",
    "---\n",
    "Following the *AI Collaboration Policy* in the syllabus, please cite any LLMs that you used here and briefly describe what you used them for. Additionally, provide comments in-line identifying the specific sections that you used LLMs on, if you used them towards the generation of any of your answers.\n",
    "- ChatGPT\n",
    "    - Used when graphing to figure out how to make three seperate bar graphs in one plot \n",
    "\n",
    "Reflection\n",
    "----\n",
    "Answer the following questions __after__ you complete this assignment (no more than 1 sentence per question required, this section is graded on completion):\n",
    "\n",
    "1. Does this work reflect your best effort?\n",
    "- I believe my work reflects my best effort because I took the time to create a story with an interesting plot and demonstrated my functions using graphs in a way that makes it easier for the grader to see the function's effect.\n",
    "2. What was/were the most challenging part(s) of the assignment?\n",
    "- The most challenging part of the assigningment was Task 1 since the directions were a little unclear; Task 2 was confusing since softmax returns a list and not just one value like the equation indicates.\n",
    "3. If you want feedback, what function(s) or problem(s) would you like feedback on and why?\n",
    "- I would like feedback on my softmax function. I still don't know whether or not I currerntly implemented it since I have it return a list of all the softmax values of for each z_value in my vocabulary.\n",
    "\n",
    "\n",
    "\n"
   ]
  },
  {
   "cell_type": "markdown",
   "metadata": {},
   "source": [
    "Task 1: Large Language Models Experiments (20 points)\n",
    "---\n",
    "\n",
    "Sign up for an account at [goose.ai](https://goose.ai), then navigate to the AI Playground. You can use any of the GPT-X models for this task. Your goal is to get the models that you play with to tell a coherent story where you are the main character. Once you have the story that allows you to answer the questions below, copy and paste it into your document. Note that you may not be \"successful\" in your goal to have the model tell a truly coherent story—that's okay.\n",
    "\n",
    "You'll be playing with various hyperparameters with these experiments. A hyperparameter is a parameter of a model that is manually set and controls some aspect of either the learning algorithm or the output algorithm."
   ]
  },
  {
   "cell_type": "markdown",
   "metadata": {},
   "source": [
    "0. Copy + paste your story here. Put the words you typed __in bold__."
   ]
  },
  {
   "cell_type": "markdown",
   "metadata": {},
   "source": [
    "1. Highlight in <mark>yellow</mark> demonstrations of changing the temperature hyperparameter. To do this in markdown, `<mark>yellow highlighted text here</mark>`.\n",
    "2. Highlight in <span style=\"background-color:red\">red</span> demonstrations of changing the top-k hyperparameter. To do this in markdown, `<span style=\"background-color:red\">red text here</span>`.\n",
    "3. Indicate a demonstration of the probabilistic nature of the output of LLMs by *italicizing* at least two spans of text demonstrating identifiable probabilistic output.\n",
    "\n",
    "If background colors are not rendering in your IDE, you may alternatively use 🔥 emojis around temperature and 🔴s around top-k."
   ]
  },
  {
   "cell_type": "markdown",
   "metadata": {},
   "source": [
    "Elliot woke up and had no idea where he was. This place looks like some form of market with vendors in every corner. The vendor next to him asked him if he wanted an appa. \"An appa?\" he thought, for he had no idea what that was. It did look like what he knows as an apple. <mark> \n",
    "(Temp = 0) He took a bite and it was delicious. He asked the vendor, \"What is this?\" The vendor replied, \"It's an appa\".</mark> <mark> \n",
    "(Temp = .5) \"Yes, I want an appa, please,\" he said. The vendor gave him an appa and he took a bite.</mark> <mark> \n",
    "(Temp = 1)  Since he was kind of lost with his knowledge of what an appa was and he didn't care to spend his money he decided to leave </mark> He took a bite and it was delicious. He asked the vendor, \"What is this?\" The vendor replied, \"It's an appa\". The vendor put his hand out, Elliot knew he was asking for money. Elliot took out his wallet and asked if a 500 yen coin would be enough. The vendor shouted at him \"what the hell is this crap?\" <span style=background-color:red> (Top-k = 0) and threw the coin back at him. Elliot was confused, he had no idea what was going on.</span> <span style=background-color:red> (Top-k = 5) and threw the coin back at him. Elliot was confused, he didn't know what to do.</span> <span style=background-color:red> (Top-k = 10) Elliot was confused, he didn't know what to do. He took out another 500 yen coin</span> <span style=background-color:red> (Top-k = 25) and threw the coin back at him. Elliot was confused. He asked the vendor, \"What's wrong with the coin?”</span> <span style=background-color:red> (Top-k = 50) and threw the coin back at him. Elliot was confused. He took out another 500 yen coin and asked again. </span> The vendor told him to move along if he didn't haven actual money to pay with. Elliot was confused, was he not in Japan? As Elliot was walking he suddently got pulled into an alley way by three suspicious men. \n",
    "<mark> \n",
    "(Temp = 0) They asked him what he was doing. He told them he was lost. They asked him if he was a tourist. </mark>\n",
    "<mark> \n",
    "(Temp = .5) \"I'm not sure, I was just in the market place” he responded. </mark>\n",
    "<mark> \n",
    "(Temp = 1) \"Oh, hello...you there,\" one of them pointed out with disgust, clearly meaning \"Shut the fuck up.\" </mark>\n",
    " They told him to give them all his money. Elliot stupidly refused. They then started to attack Elliot. Elliot had a little bit of training from karate in high school. After not even a minute of fighting, Elliot was *Version 1: knocked out.*  *Version 2: able to knock out all three of them. He then went to the police station and told them what happened.* \n"
   ]
  },
  {
   "cell_type": "markdown",
   "metadata": {},
   "source": [
    "Task 2: Create Hyperparameter Demonstrations (15 points)\n",
    "----\n",
    "\n",
    "(python) Create a demonstration in a jupyter notebook of changing a temperature hyperparameter. To do this, follow the steps below:\n",
    "choose an \"input sequence\" of 2 - 5 words to ground your example.\n",
    "1. define a vocabulary of size >= 10\n",
    "2. for each item in the vocabulary, choose a float, $z_i$ in the range of [-1, 1] . Generally speaking, you'll want words with higher probabilities to have a number closer to 1, words with lower probabilities to have a number closer to -1.\n",
    "3. implement a `softmax` function (equation written below), calculate and display your starting probability distribution ezij = 1ezj where $e$ is the math value $e$ (`math.e`), $z_i$ is the value you chose in step 2 for the target word, and $j$ goes through all words in your vocabulary (this is the sum of $e$ raised to the power of all your $z$ values). You should end up with a well-formed probability distribution. This probability distribution should reflect reasonable probabilities for your vocabulary given your input sequence.\n",
    "$$ \\texttt{softmax}(z_i) = \\frac{e^{z_i}}{\\sum_{j = 1}^k e^{z_j}}$$\n",
    "4. Add a temperature parameter ($\\tau$) to your softmax function (equation below) and demonstrate the results of raising and lowering the temperature. For your demonstration, you may create a table, a series of graphs, a single graph—choose something that appropriately displays the effects of lowering the temperature below 1, temperature at 1, and temperature above 1. Your demonstration must be *easily interpretable* and *accurate*.\n",
    "$$ \\texttt{softmax}(z_i, \\tau) = \\frac{e^{\\frac{z_i}{\\tau}}}{\\sum_{j = 1}^k e^{\\frac{z_j}{\\tau}}}$$\n",
    "5. __6120 REQUIRED__ (python) create a demonstration of changing the top-k parameter, using the same vocabulary and probability distributions that you defined in the previous question.\n",
    "    1. To complete this task, you will need to write a function that actually samples the next word from your vocabulary (we'll only do one) and that takes a parameter to represent top k.\n",
    "    2. Top k defines the number of words we will consider from the vocabulary when choosing the next word (take the k most likely), then re-normalizes the distribution to only consider these words.\n",
    "    3. Demonstrate using your sampling function with different values for top-k, showing both the top-k sampled distribution and the next word that is ultimately chosen."
   ]
  },
  {
   "cell_type": "code",
   "execution_count": 1,
   "metadata": {},
   "outputs": [],
   "source": [
    "# YOUR CODE HERE\n",
    "# import the necessary packages\n",
    "# include appropriate doc strings for functions\n",
    "# add more cells as needed/desired\n",
    "import math\n",
    "import numpy as np\n",
    "import matplotlib.pyplot as plt"
   ]
  },
  {
   "cell_type": "code",
   "execution_count": 2,
   "metadata": {},
   "outputs": [
    {
     "data": {
      "image/png": "[encoded data removed]",
      "text/plain": [
       "<Figure size 640x480 with 3 Axes>"
      ]
     },
     "metadata": {},
     "output_type": "display_data"
    }
   ],
   "source": [
    "# YOUR CODE HERE\n",
    "# import the necessary packages\n",
    "# include appropriate doc strings for functions\n",
    "# add more cells as needed/desired\n",
    "import math\n",
    "import numpy as np\n",
    "import matplotlib.pyplot as plt\n",
    "\n",
    "# 1. define vocabulary\n",
    "vocabulary = ['the', 'vendor', 'city', 'food', 'eat', 'small', 'money', 'he', 'coin', 'market']\n",
    "# 2. assign z_value for the vocab based on \n",
    "z_values = [.7, .3, -.5, -.3, -.1, 0, .1, .8, -.8, .2]\n",
    "# 3 and 4\n",
    "def softmax(z, temperature=1):\n",
    "  e_z = [math.e ** (zi / temperature) for zi in z]\n",
    "  sum_e_z = sum(e_z)\n",
    "  softmax_values = [ezj / sum_e_z for ezj in e_z]\n",
    "  return softmax_values\n",
    "\n",
    "temperatures = [0.2, 1.0, 5.0]\n",
    "colors = ['red', 'blue', 'green', 'purple', 'orange', 'pink', 'brown', 'cyan', 'magenta', 'lime']\n",
    "\n",
    "for i, temp in enumerate(temperatures):\n",
    "  plt.subplot(1, len(temperatures), i+1) # pick which bar graph we are on\n",
    "  softmax_values = softmax(z_values, temp) # compute softmax values by temperature\n",
    "  plt.bar(z_values, softmax_values, color=colors, width=.1) # plot the z_values by softmax_values\n",
    "  plt.xlabel(\"Z Value\") # label x axis\n",
    "  plt.ylabel(\"Softmax Value\") # label y axid\n",
    "  plt.title(f'Temperature = {temp}') # label title\n",
    "\n",
    "plt.tight_layout() # adjust the subplots\n",
    "plt.show() # display graphs\n",
    "\n",
    "  "
   ]
  },
  {
   "cell_type": "markdown",
   "metadata": {},
   "source": [
    "Task 3: Large Language Models Philosophy & Considerations (15 points)\n",
    "----\n",
    "\n",
    "1. Make an argument for when a computer might be reasonably considered to \"know\" a word. Identify at least 3 components in your argument. Justify this choice. (4 - 6 sentences)\n",
    "\n",
    "I believe a computer can be considered to \"know\" a word but not the same way humans \"know\" words. Firstly, copmuters know the lexical aspects of words including how they are spelt, pronounced, their grammar, and many other aspects. Secondly, we see that computers understand when words should be used in sentences so they could be considred to have some sort of semantic understanding. They seem to know how a word affects the tone of sentences they are in and how they relate the context they are in. Lastly, computers have access to more vocabulary than any one person does, yet tend to use similar vocabulary that every person uses. This demonstrates that not only do computers know words, but know which words are more appropriate for use and which ones should be reserved for other cases. However, all these ways of \"knowing\" are more statistical, and lack an emotional level of understanding.\n",
    "\n"
   ]
  },
  {
   "cell_type": "markdown",
   "metadata": {},
   "source": [
    "2. From your current understanding of LLMs and the definition that you just proposed, do LLMs \"know\" words? (2 - 4 sentences)\n",
    "\n",
    "I believe LLM's can know words but not in the same sense as humans do. I believe LLMs understand words, their meanings, how to use them, and are able to break down text into a way the LLM can utilize. I'm not sure if they are able to have independent thoughts and a consciousness of the words they \"read.\" While they have access to patterns and can infer words, their way to knowing differs from our way of knowing. I don't have access the likelyhood of a word being used, but I know from experience which words I am more likely to hear. "
   ]
  },
  {
   "cell_type": "markdown",
   "metadata": {},
   "source": [
    "3. Given what you have learned about LLMs so far, what do you think the most important thing for people to understand about LLMs is? Justify your answer. (3 - 5 sentences)\n",
    "\n",
    "I think the most important thing for people to know baout LLMs is that they do no have consciousness and do have access to a large amount of statistics on human speech. They \"know\" what words mean and algorithmically analyze text and produce text of their own. However, LLMs cannot emotionally understand the meaning of words and phases which one could argue means they lack a true understanding of words at all, but I like to believe they \"know\" words, but they'll never \"know\" their meanings."
   ]
  },
  {
   "cell_type": "markdown",
   "metadata": {},
   "source": [
    "5 points in this assignment are reserved for overall style (both for writing and for code submitted). All work submitted should be clear, easily interpretable, and checked for spelling, etc. (Re-read what you write and make sure it makes sense). Course staff are always happy to give grammatical help (but we won't pre-grade the content of your answers)."
   ]
  },
  {
   "cell_type": "markdown",
   "metadata": {},
   "source": []
  }
 ],
 "metadata": {
  "kernelspec": {
   "display_name": "Python 3",
   "language": "python",
   "name": "python3"
  },
  "language_info": {
   "codemirror_mode": {
    "name": "ipython",
    "version": 3
   },
   "file_extension": ".py",
   "mimetype": "text/x-python",
   "name": "python",
   "nbconvert_exporter": "python",
   "pygments_lexer": "ipython3",
   "version": "3.11.5"
  },
  "orig_nbformat": 4
 },
 "nbformat": 4,
 "nbformat_minor": 2
}
