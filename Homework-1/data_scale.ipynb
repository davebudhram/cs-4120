{
 "cells": [
  {
   "cell_type": "markdown",
   "metadata": {},
   "source": [
    "Homework 1: Python, Strings, Data, Scale\n",
    "----\n",
    "\n",
    "Due date: September 13th, 2023\n",
    "\n",
    "Points: 42\n",
    "\n",
    "Files to submit:\n",
    "- `data_scale.ipynb`\n",
    "- `yourdatafilefortask3and4` (See task 3. This file will most likely be a `.txt` or `.csv`, but can be any)\n",
    "\n",
    "Goals:\n",
    "- ensure that your python environment is set up and running\n",
    "- learn/review python skills regarding `string`s, data structures, and file manipulation \n",
    "\n",
    "Complete in groups of: __one (individually)__\n",
    "\n",
    "Allowed python modules:\n",
    "- Note that all necessary modules have already been imported for you for this assignment. (you may import any standard python libraries, plotting libraries as you'd like)\n",
    "\n",
    "\n",
    "Instructions:\n",
    "- Complete outlined problems in this notebook. \n",
    "- When you have finished, __clear the kernel__ and run your notebook \"fresh\" from top to bottom. Ensure that there are __no errors__. \n",
    "    - If a problem asks for you to write code that does result in an error (as in, the answer to the problem is an error), leave the code in your notebook but commented out so that running from top to bottom does not result in any errors.\n",
    "- Double check that you have completed Task 0.\n",
    "- Submit your work on Gradescope.\n",
    "- Double check that your submission on Gradescope looks like you believe it should __and__ that all partners are included (for partner work).\n",
    "\n",
    "6120 students: complete __all__ problems.\n",
    "\n",
    "4120 students: you are not required to complete problems marked \"CS 6120 REQUIRED\". If you complete these you will not get extra credit. We will not take points off if you attempt these problems and do not succeed.\n",
    "\n",
    "\n"
   ]
  },
  {
   "cell_type": "markdown",
   "metadata": {},
   "source": [
    "Task 0: Name, References, Reflection (5 points)\n",
    "---\n",
    "\n",
    "TODO: complete this section\n",
    "\n",
    "Name: Dave Budhram\n",
    "\n",
    "References\n",
    "---\n",
    "List the resources you consulted to complete this homework here. Write one sentence per resource about what it provided to you. If you consulted no references to complete your assignment, write a brief sentence stating that this is the case and why it was the case for you.\n",
    "\n",
    "- https://matplotlib.org/stable/api/_as_gen/matplotlib.pyplot.plot.html\n",
    "    - Used this resource to recall how to use matplotlib.pyplot \n",
    "\n",
    "\n",
    "AI Collaboration\n",
    "---\n",
    "\n",
    "Please do not use large language models for this assignment. If you are using co-pilot, this is acceptable but *make sure* you test your code. For all future assignments, follow the AI Collaboration Policy, to be published during the second week of class.\n",
    "\n",
    "Reflection\n",
    "----\n",
    "Answer the following questions __after__ you complete this assignment (no more than 1 sentence per question required, this section is graded on completion):\n",
    "\n",
    "1. Does this work reflect your best effort?\n",
    "    - I hope this work reflects my best effort. While this assignment is just an introudction to python I believe I completed it to the best of my abilities.\n",
    "2. What was/were the most challenging part(s) of the assignment?\n",
    "    - The most challenging part for me was plotting. I always get confused when making diagrams in python especially when we need to generate the data ourselves.\n",
    "3. If you want feedback, what function(s) or problem(s) would you like feedback on and why?\n",
    "    - Task 1 problem 3 was a little weird to me. I wasn't sure if I went about it the right way. Also I have been using str.split() to tokenize which isn't ideal\n",
    "     I believe, so feedback on how to improve tokenization.\n",
    "\n",
    "\n",
    "\n"
   ]
  },
  {
   "cell_type": "markdown",
   "metadata": {},
   "source": [
    "Task 1: Python Warm-up (8 points)\n",
    "----\n",
    "\n",
    "We'll warm-up by either learning about or reviewing `string`s, `for` loops, `range()`, and `list`s.\n",
    "\n",
    "Links to relevant documentation:\n",
    "- [strings](https://docs.python.org/3/library/string.html)\n",
    "- [Felix's notes on strings](https://muzny.github.io/csci1200-notes/03/5/strings.html)\n",
    "- [for loops](https://wiki.python.org/moin/ForLoop)\n",
    "- [Felix's notes on for loops](https://muzny.github.io/csci1200-notes/08/1/for_loops_basics.html)\n",
    "- [lists](https://docs.python.org/3/tutorial/datastructures.html)\n",
    "- [Felix's notes on lists](https://muzny.github.io/csci1200-notes/07/1/lists_basics.html)"
   ]
  },
  {
   "cell_type": "code",
   "execution_count": 1,
   "metadata": {},
   "outputs": [
    {
     "name": "stdout",
     "output_type": "stream",
     "text": [
      "H\n",
      "e\n",
      "l\n",
      "l\n",
      "o\n"
     ]
    }
   ],
   "source": [
    "# define a string variable, then\n",
    "# using a for loop, iterate through the letters of a string\n",
    "myString = \"Hello\"\n",
    "for char in myString:\n",
    "  print(char)"
   ]
  },
  {
   "cell_type": "code",
   "execution_count": 2,
   "metadata": {},
   "outputs": [
    {
     "name": "stdout",
     "output_type": "stream",
     "text": [
      "1\n",
      "2\n",
      "3\n",
      "4\n",
      "5\n"
     ]
    }
   ],
   "source": [
    "# define a list variable, then\n",
    "# using a for loop, iterate through the contents of a list\n",
    "myArray = [1,2,3,4,5]\n",
    "for num in myArray:\n",
    "  print(num)"
   ]
  },
  {
   "cell_type": "code",
   "execution_count": 3,
   "metadata": {},
   "outputs": [
    {
     "name": "stdout",
     "output_type": "stream",
     "text": [
      "Hello\n",
      "name\n",
      "Dave\n"
     ]
    }
   ],
   "source": [
    "# define a string variable, then\n",
    "# using a for loop and the range() function, print out every other token \n",
    "# (you may assume tokens are separated by spaces) in the string\n",
    "mySecondString = \"Hello my name is Dave\"\n",
    "mySecondStringAsArray = mySecondString.split()\n",
    "for i in range(len(mySecondStringAsArray)):\n",
    "  if i % 2 == 0:\n",
    "    print(mySecondStringAsArray[i])"
   ]
  },
  {
   "cell_type": "code",
   "execution_count": 4,
   "metadata": {},
   "outputs": [
    {
     "name": "stdout",
     "output_type": "stream",
     "text": [
      "['Dave', '', '', 'was', '', '', 'here']\n",
      "['Dave', 'was', 'here']\n"
     ]
    }
   ],
   "source": [
    "# demonstrate the difference(s) between calling python's \n",
    "# str.split() function like str.split(' ') and str.split()\n",
    "\n",
    "string1 = \"Dave   was   here\"\n",
    "print(string1.split(' '))\n",
    "print(string1.split())\n",
    "# str.split(' ')  seperates all characters by a space, where spaces don't matter with str.split(). For example 3 spaces is considered one space in str.split()."
   ]
  },
  {
   "cell_type": "markdown",
   "metadata": {},
   "source": [
    "Task 2: Timing Python Functions (15 points)\n",
    "----\n",
    "\n",
    "In this section, we'll explore efficiency and python data structures.\n",
    "You'll work on increasing your familiarity with `list`s, `dict`s, and [`Counter`](https://docs.python.org/3/library/collections.html#collections.Counter)s.\n",
    "\n",
    "Notice that in our python function headers, we include [type hints](https://docs.python.org/3/library/typing.html)."
   ]
  },
  {
   "cell_type": "code",
   "execution_count": 5,
   "metadata": {},
   "outputs": [],
   "source": [
    "# for timing\n",
    "import time\n",
    "\n",
    "# for our fancier data structure\n",
    "from collections import Counter\n",
    "\n",
    "# for type hinting\n",
    "from typing import Callable\n",
    "\n",
    "# for graphing\n",
    "import matplotlib.pyplot as plt\n",
    "\n",
    "# for random number generation\n",
    "import random"
   ]
  },
  {
   "cell_type": "code",
   "execution_count": 6,
   "metadata": {},
   "outputs": [
    {
     "name": "stdout",
     "output_type": "stream",
     "text": [
      "That took: 7.152557373046875e-07 seconds!\n"
     ]
    }
   ],
   "source": [
    "# provided\n",
    "def timer(fun: Callable, tokens: list) -> float:\n",
    "    \"\"\"\n",
    "    measure (in seconds) the time that it takes to run a\n",
    "    function that operates on a list of strings (tokens)\n",
    "\n",
    "    Args:\n",
    "    fun: Callable\n",
    "    tokens: list\n",
    "\n",
    "    return:\n",
    "    float (seconds)\n",
    "    \"\"\"\n",
    "    start = time.time()\n",
    "    fun(tokens)\n",
    "    end = time.time()\n",
    "    return end - start\n",
    "\n",
    "# call like \n",
    "# len is the funtion that is being timed\n",
    "print(\"That took:\", timer(len, [\"this\", \"is\", \"a\", \"test\"]), \"seconds!\")"
   ]
  },
  {
   "cell_type": "code",
   "execution_count": 7,
   "metadata": {},
   "outputs": [],
   "source": [
    "# TODO: implement the following functions (function signatures are provided for you)\n",
    "\n",
    "def count_list(tokens: list) -> dict:\n",
    "    \"\"\"\n",
    "    Count the number of occurrences of each token in a list of tokens.\n",
    "    Use the list.count() method.\n",
    "\n",
    "    Args:\n",
    "    tokens: list of items (often tokens)\n",
    "\n",
    "    return:\n",
    "    dict (mapping from token to count)\n",
    "    \"\"\"\n",
    "    # YOUR CODE HERE\n",
    "    token_dict = {}\n",
    "    for token in tokens: # using set(tokens) can make this must faster\n",
    "        token_dict[token] = tokens.count(token)\n",
    "    return token_dict\n",
    "\n",
    "def count_dict(tokens: list) -> dict:\n",
    "    \"\"\"\n",
    "    Count the number of occurrences of each token in a list of tokens.\n",
    "    Do not use the list.count() method. Do not use a Counter.\n",
    "    If you would like to use any method/function other than len, it must be\n",
    "    okay'd with the teaching staff.\n",
    "\n",
    "    Args:\n",
    "    tokens: list of items (often tokens)\n",
    "\n",
    "    return:\n",
    "    dict (mapping from token to count)\n",
    "    \"\"\"\n",
    "    # YOUR CODE HERE\n",
    "    token_dict = {}\n",
    "    for token in tokens:\n",
    "        if token not in token_dict:\n",
    "            token_dict[token] = 1\n",
    "        else:\n",
    "            token_dict[token] +=1\n",
    "    return token_dict\n",
    "\n",
    "\n",
    "def count_counter(tokens: list) -> Counter:\n",
    "    \"\"\"\n",
    "    Count the number of occurrences of each token in a list of tokens.\n",
    "    Use a Counter.\n",
    "    Do not use the list.count() method or any other list/dict functions/methods.\n",
    "\n",
    "    Args:\n",
    "    tokens: list of items (often tokens)\n",
    "\n",
    "    return:\n",
    "    Counter (mapping from token to count)\n",
    "    \"\"\"\n",
    "    # YOUR CODE HERE\n",
    "    token_counter = Counter()\n",
    "    for token in tokens:\n",
    "        token_counter[token] += 1\n",
    "    return token_counter"
   ]
  },
  {
   "cell_type": "code",
   "execution_count": 8,
   "metadata": {},
   "outputs": [
    {
     "name": "stdout",
     "output_type": "stream",
     "text": [
      "{'A': 3, 'B': 2, 'C': 1, 'D': 1}\n",
      "{'A': 3, 'B': 2, 'C': 1, 'D': 1}\n",
      "Counter({'A': 3, 'B': 2, 'C': 1, 'D': 1})\n",
      "{'A': 1, 'B': 1, 'C': 1, 'D': 1, 'E': 1, 'F': 1}\n",
      "{'A': 1, 'B': 1, 'C': 1, 'D': 1, 'E': 1, 'F': 1}\n",
      "Counter({'A': 1, 'B': 1, 'C': 1, 'D': 1, 'E': 1, 'F': 1})\n"
     ]
    }
   ],
   "source": [
    "# TODO: verify that your count_* functions are correct and consistent with one another\n",
    "\n",
    "# Make sure to test both if the list does not have duplicates and if it does\n",
    "\n",
    "# Test with duplicates\n",
    "tokenList1 = ['A', 'A' , 'B', 'C', 'D', 'A', 'B']\n",
    "print(count_list(tokenList1))\n",
    "print(count_dict(tokenList1))\n",
    "print(count_counter(tokenList1))\n",
    "\n",
    "# Test with no duplicates\n",
    "tokenList2 = ['A', 'B', 'C', 'D', 'E', 'F']\n",
    "print(count_list(tokenList2))\n",
    "print(count_dict(tokenList2))\n",
    "print(count_counter(tokenList2))"
   ]
  },
  {
   "cell_type": "code",
   "execution_count": 9,
   "metadata": {},
   "outputs": [
    {
     "data": {
      "image/png": "[encoded data removed]",
      "text/plain": [
       "<Figure size 640x480 with 1 Axes>"
      ]
     },
     "metadata": {},
     "output_type": "display_data"
    },
    {
     "name": "stdout",
     "output_type": "stream",
     "text": [
      "[10, 20, 30, 40, 50, 60, 70, 80, 90, 100, 110, 120, 130, 140, 150, 160, 170, 180, 190, 200, 210, 220, 230, 240, 250, 260, 270, 280, 290, 300, 310, 320, 330, 340, 350, 360, 370, 380, 390, 400, 410, 420, 430, 440, 450, 460, 470, 480, 490, 500]\n",
      "[2.86102294921875e-06, 5.0067901611328125e-06, 9.775161743164062e-06, 1.4066696166992188e-05, 2.1219253540039062e-05, 3.0040740966796875e-05, 3.981590270996094e-05, 5.1975250244140625e-05, 6.508827209472656e-05, 7.700920104980469e-05, 9.393692016601562e-05, 0.00012493133544921875, 0.00014090538024902344, 0.00014901161193847656, 0.00016999244689941406, 0.00019359588623046875, 0.00021791458129882812, 0.00038695335388183594, 0.00027179718017578125, 0.0002968311309814453, 0.00033092498779296875, 0.0003566741943359375, 0.0003910064697265625, 0.0004260540008544922, 0.0004608631134033203, 0.0005030632019042969, 0.0005390644073486328, 0.0005741119384765625, 0.0009219646453857422, 0.0006651878356933594, 0.0007009506225585938, 0.0007479190826416016, 0.0007901191711425781, 0.0008540153503417969, 0.0009579658508300781, 0.0009510517120361328, 0.0010030269622802734, 0.001055002212524414, 0.0011038780212402344, 0.0013821125030517578, 0.0012218952178955078, 0.0013103485107421875, 0.0013539791107177734, 0.0014200210571289062, 0.00150299072265625, 0.0017740726470947266, 0.0016291141510009766, 0.0017008781433105469, 0.0017557144165039062, 0.0018680095672607422]\n",
      "[9.5367431640625e-07, 1.9073486328125e-06, 2.1457672119140625e-06, 3.0994415283203125e-06, 3.814697265625e-06, 3.814697265625e-06, 6.198883056640625e-06, 6.198883056640625e-06, 7.152557373046875e-06, 6.9141387939453125e-06, 8.106231689453125e-06, 9.298324584960938e-06, 9.775161743164062e-06, 1.0967254638671875e-05, 1.0013580322265625e-05, 1.2159347534179688e-05, 1.1920928955078125e-05, 1.3828277587890625e-05, 1.2874603271484375e-05, 1.4066696166992188e-05, 1.5020370483398438e-05, 1.621246337890625e-05, 1.5735626220703125e-05, 1.6927719116210938e-05, 1.71661376953125e-05, 1.811981201171875e-05, 1.9073486328125e-05, 1.9073486328125e-05, 2.193450927734375e-05, 2.0265579223632812e-05, 2.09808349609375e-05, 2.193450927734375e-05, 2.288818359375e-05, 2.3126602172851562e-05, 2.8133392333984375e-05, 2.47955322265625e-05, 2.5272369384765625e-05, 2.574920654296875e-05, 2.7179718017578125e-05, 3.0040740966796875e-05, 2.9087066650390625e-05, 2.8848648071289062e-05, 2.8848648071289062e-05, 3.0994415283203125e-05, 3.0994415283203125e-05, 3.504753112792969e-05, 3.2901763916015625e-05, 3.1948089599609375e-05, 3.314018249511719e-05, 3.409385681152344e-05]\n",
      "[6.198883056640625e-06, 3.814697265625e-06, 5.0067901611328125e-06, 5.7220458984375e-06, 6.9141387939453125e-06, 7.867813110351562e-06, 8.821487426757812e-06, 1.0013580322265625e-05, 1.0967254638671875e-05, 1.1920928955078125e-05, 1.2874603271484375e-05, 1.3828277587890625e-05, 1.52587890625e-05, 1.5974044799804688e-05, 1.5974044799804688e-05, 1.7881393432617188e-05, 1.8835067749023438e-05, 2.3126602172851562e-05, 2.09808349609375e-05, 2.2172927856445312e-05, 2.3126602172851562e-05, 2.3126602172851562e-05, 2.4080276489257812e-05, 2.5987625122070312e-05, 2.5987625122070312e-05, 2.9087066650390625e-05, 2.7894973754882812e-05, 2.9802322387695312e-05, 3.504753112792969e-05, 3.1948089599609375e-05, 3.314018249511719e-05, 3.3855438232421875e-05, 3.528594970703125e-05, 4.792213439941406e-05, 4.291534423828125e-05, 3.814697265625e-05, 3.814697265625e-05, 4.029273986816406e-05, 4.076957702636719e-05, 4.506111145019531e-05, 4.291534423828125e-05, 4.291534423828125e-05, 4.506111145019531e-05, 4.887580871582031e-05, 4.601478576660156e-05, 5.2928924560546875e-05, 5.125999450683594e-05, 4.9114227294921875e-05, 5.1021575927734375e-05, 5.1021575927734375e-05]\n"
     ]
    }
   ],
   "source": [
    "# TODO: create a graph with three lines, one for each of the three count_* functions\n",
    "# x-axis should be the number of items in the list given to the function (go up to at least 500)\n",
    "# y-axis should be the time taken to run the function\n",
    "# the graph should have a legend indicating which line is which (use plt.legend() to make this happen)\n",
    "\n",
    "# you'll need to generate one (or more) list(s) of items to be counted.\n",
    "# we recommend using the random module to generate random integers\n",
    "ten_ints = [random.randint(0, 10) for i in range(10)]\n",
    "x_num_ints = []\n",
    "y_list_times = []\n",
    "y_dict_times = []\n",
    "y_counter_times = []\n",
    "\n",
    "for i in range(10, 501, 10):\n",
    "  x_num_ints.append(i)\n",
    "  random_ints = [random.randint(0, 10) for x in range(i)] # generate random ints in up ot i using numbers 0 - 9\n",
    "  list_time = timer(count_list, random_ints)\n",
    "  y_list_times.append(list_time)\n",
    "  dict_time = timer(count_dict, random_ints)\n",
    "  y_dict_times.append(dict_time)\n",
    "  counter_time = timer(count_counter, random_ints)\n",
    "  y_counter_times.append(counter_time)\n",
    "\n",
    "plt.plot(x_num_ints, y_list_times, label=\"List Function\")\n",
    "plt.plot(x_num_ints, y_dict_times, label=\"Dict Function\")\n",
    "plt.plot(x_num_ints, y_counter_times, label=\"Counter Function\")\n",
    "\n",
    "plt.xlabel(\"Number of Ints\")\n",
    "plt.ylabel(\"Time Taken (seconds)\")\n",
    "plt.legend()\n",
    "\n",
    "plt.show()\n",
    "\n",
    "print(x_num_ints)\n",
    "print(y_list_times)\n",
    "print(y_dict_times)\n",
    "print(y_counter_times)\n"
   ]
  },
  {
   "cell_type": "markdown",
   "metadata": {},
   "source": [
    "Task 3: Real World Data (8 points)\n",
    "----\n",
    "\n",
    "In this section, you'll find some real world text data *of interest to you* and run some analysis on this data. The data that you choose can include labels, but if it does, do not include those labels in your counts of tokens, etc.\n",
    "\n",
    "\n",
    "Size requirements:\n",
    "- your file must contain a minimum of 10,000 tokens (as measured by at least *one* of your tokenization schemes).\n",
    "\n",
    "\n",
    "Key vocabulary:\n",
    "\n",
    "__token__: The unit that we will operate on when processing text. Normally corresponds roughly to \"words\". We will focus on tokens during Lecture 2."
   ]
  },
  {
   "cell_type": "code",
   "execution_count": 10,
   "metadata": {},
   "outputs": [],
   "source": [
    "# TODO\n",
    "# the file should be in the same folder as this notebook because when you \n",
    "# submit this notebook, you will also submit the file and the backend of the \n",
    "# system expects them to be in the same directory\n",
    "FILE = './classroom_of_the_elite_y2_v6.txt'"
   ]
  },
  {
   "cell_type": "code",
   "execution_count": 11,
   "metadata": {},
   "outputs": [
    {
     "name": "stdout",
     "output_type": "stream",
     "text": [
      "Prologue:\n",
      "\n",
      "Akito Miyake’s Monologue\n",
      "\n",
      "IHAVE NEVER thought of myself as a special person. I guess I’m just an\n",
      "\n",
      "average person that has no special strengths or flaws. I’ve just lived my life as I liked, somewhat by inertia. I’ve done some bad things, and I’ve done some kind things.\n",
      "\n",
      "I’m not a good person, and I’m not a bad person. If I were to evaluate myself, I’m just another guy. Ever since I was born, I’ve been walking around as someone who is neither of those things, just someone in the middle.\n",
      "\n",
      "It was only when I got to high school that I grew fond of Archery. I was just watching it on TV and thought I’d give it a try in my spare time. Besides that, I just went about my life in a normal way, as if I were surrendering to the flow of the river. I don’t pay attention to the big things, and I just go about my personal routine.\n",
      "\n",
      "It may be a boring routine, but I’ve done it because I thought it would be easier. However... I didn’t make any friends in high school because of the negative effects of this way of life. I wasn’t lonely, but even still, I ended up making some friends through unexpected chances.\n",
      "\n",
      "Keisei, Kiyotaka, Haruka, and Airi.\n",
      "\n",
      "There were only five of us, including me, but I felt strangely comfortable in that small group. I had a feeling that the rest of my school life would be spent in a relaxed atmosphere with these five people. The environment around me may have changed, but I was still me. That was the only thing I knew would never change. And then... one big change occurred in spite of my expectations.\n",
      "\n",
      "I fell in love with someone.\n",
      "\n",
      "I’ve always thought the opposite sex was cute and pretty, but I’ve never fallen in love with them.\n",
      "\n",
      "I wonder when it started.\n",
      "\n",
      "What was it that had made me look different towards Haruka?\n",
      "\n",
      "What made me sure was when Haruka announced that she would drop\n",
      "\n",
      "out of the school in a unanimous special exam. There was a part of me that\n",
      "\n",
      "could not accept that we would be separated. Emotions, not logic, were my top priority.\n",
      "\n",
      "I wanted to protect Haruka, even if it meant abandoning Airi, a member of the group I cared about as much as her.\n",
      "\n",
      "I don’t know if this feeling was justified. I gave priority to what I wanted to protect, not to what was right or wrong.\n",
      "\n",
      "But I have no regrets.\n",
      "\n",
      "“Will you go along with my ambition for revenge?”\n",
      "\n",
      "The murmur brought me back to reality. Her eyes looking at me were\n",
      "\n",
      "the same as always. They were strong, straightforward, and dangerously colored. But they were unclouded, with a determination that showed no sign of hesitation.\n",
      "\n",
      "I did not answer aloud. No, I couldn’t.\n",
      "\n",
      "The revenge would surely embarrass many of my friends and classmates. She must have seen through my emotions, because she laughed and turned her back to me and walked away. In the past, I would have just sent her off without a second thought.\n",
      "\n",
      "Seeing her off was the right thing to do.\n",
      "\n",
      "Yes, how much easier it would be if I could see her off.\n",
      "\n",
      "I didn’t know that falling in love with someone could be so\n",
      "\n",
      "troublesome, difficult, and stressful... I...\n",
      "\n",
      "No matter how many people are going to hate me in the future... I’m not going to let my feelings allow me to let her go alone. On this day after the sports festival, I had to make an impossible\n",
      "\n",
      "decision.\n",
      "\n",
      "\n",
      "\n",
      "Chapter One: The Price of Victory\n",
      "\n",
      "AFTER THE UNANIMOUS special exam, the week ended on September 20th. I\n",
      "\n",
      "woke up around 6:30 a.m., turned on the TV, and started preparing breakfast. It’s a new day, and it’s going to be very different from the previous\n",
      "\n",
      "week. I don’t have to get too presumptuous to guess why that is the case. There are two main factors that cast a dark shadow.\n",
      "\n",
      "Kushida’s revelations have caused a rift in the relationship between\n",
      "\n",
      "classmates. The fact that Horikita overturned the premise of limiting the expulsions to only those who betray the class, namely Kushida, has shaken peoples trust in Horikita. The choice was to expel or not to expel, and I got everyone to vote in favor of expulsion with the promise that only traitors would be expelled. Then, using all the resources I had built up so far, I put my plan into action to push Kushida into a corner, make her confess to being a traitor, and then expel her.\n",
      "\n",
      "Even though she was protected by classmates who wanted to believe in her and those who liked her; when she finally revealed her true nature and started revealing secrets, she lost their trust. She was one step closer to being expelled from school, but then an unexpected event occurred.\n",
      "\n",
      "Even after knowing everything, Suzune Horikita pushed the idea that Kushida is an essential member of the class. To top it all off, she even stated that she would never agree to expel Kushida. Originally, it was me who promised to expel only traitors, and Horikita only agreed to it, but I was shocked that she insisted on keeping Kushida. With so little time left, the only choices left were to keep Kushida and accept the penalty of the exam, or let someone else leave the school and pass the exam.\n",
      "\n",
      "As I said, Horikita’s change in policy and my classmates trust in me for accepting it and expelling another student was greatly shaken. Some of them were genuinely hurt by the revelation of my true ideals. Others have become suspicious of me due to rumours spread around.\n",
      "\n",
      "Then there are those who lost their friend and resent me.\n",
      "\n",
      "\n",
      "\n",
      "The list goes on and on of the severity of the situation in the class and the reasons for it. However, the effects related to the exposure are not a problem to be panic over, but something that was planned from the beginning. It was an unavoidable and necessary expense to bring down the trustworthy Kushida.\n",
      "\n",
      "Some may see this as a mere disadvantage, but I don’t see it that way. If you look at it that way, you won’t be able to gain any experience. It’s a missed opportunity to grow. We were the only one out of the four second- year classes to have a student drop out of school. Even though the students were deeply hurt, in return, we gained class points.\n",
      "\n",
      "That’s still not the full picture. In order to grasp the entire picture, it is important to change the perspective of the situation. Don’t just end with the pain, but look beyond it. We must assume that because we were hurt, we have the opportunity to strengthen our bond. In this way, Horikita’s class can become even stronger. It is unclear how many students are aware of this, but we must face the problem and not run away from it.\n",
      "\n",
      "The special exams for Horikita’s class are still going on. The weight and preciousness of 100 class points. It’s a good idea to look back and reflect on what we’ve accomplished to gain a sense of achievement.\n",
      "\n",
      "Of course, we need to be careful because if we let it go on like this, we could get swamped. If left unattended, the wound could spread further.\n",
      "\n",
      "I finished my breakfast and checked my phone with my toothbrush in hand. There seemed to be no new contact since I had seen her in the middle of the night.\n",
      "\n",
      "“And yet...”\n",
      "\n"
     ]
    }
   ],
   "source": [
    "# read the contents of your file in, however you'd like\n",
    "line_count = 0\n",
    "with open(FILE, 'r') as file:\n",
    "  for line in file:\n",
    "    if 'RoyalMTL' not in line and not line.strip().isnumeric() :\n",
    "      line_count +=1\n",
    "      if line_count < 50:\n",
    "       print(line)"
   ]
  },
  {
   "cell_type": "code",
   "execution_count": 12,
   "metadata": {},
   "outputs": [
    {
     "name": "stdout",
     "output_type": "stream",
     "text": [
      "3936\n"
     ]
    }
   ],
   "source": [
    "# how many lines are in your file?\n",
    "print(line_count)"
   ]
  },
  {
   "cell_type": "code",
   "execution_count": 13,
   "metadata": {},
   "outputs": [
    {
     "name": "stdout",
     "output_type": "stream",
     "text": [
      "73326\n"
     ]
    }
   ],
   "source": [
    "# tokenize your data using the str.split() function. How many tokens are there?\n",
    "tokens = []\n",
    "with open(FILE, 'r') as file:\n",
    "  for line in file:\n",
    "    if 'RoyalMTL' not in line and not line.strip().isnumeric() :\n",
    "      tokens.extend(line.split())\n",
    "      \n",
    "print(len(tokens))"
   ]
  },
  {
   "cell_type": "markdown",
   "metadata": {},
   "source": [
    "__CS 6120 REQUIRED__\n",
    "\n",
    "Find five specific examples of difficult-to-tokenize sequences of letters in your data.\n",
    "- Example 1\n",
    "- Example 2\n",
    "- Example 3\n",
    "- Example 4\n",
    "- Example 5\n",
    "\n",
    "If you do not complete this portion and are in 6120, this will result in a deduction in your Task 3 score.\n"
   ]
  },
  {
   "cell_type": "markdown",
   "metadata": {},
   "source": [
    "Task 4: Data Write-Up (6 points)\n",
    "---\n",
    "\n",
    "Every time you use a data set in an NLP application (or in any software application), you should be able to answer a set of questions about that data. Answer these now. Default to no more than 1 sentence per question needed. If more explanation is necessary, do give it.\n"
   ]
  },
  {
   "cell_type": "markdown",
   "metadata": {},
   "source": [
    "1. Where did you get the data from?\n",
    "2. How was the data collected (where did the people acquiring the data get it from and how)?\n",
    "3. How large is the dataset? (copy # of lines and # of tokens from above)\n",
    "4. Is your dataset a subset of a larger dataset or the entirety of a dataset? (e.g. the first half of reviews from the dataset.... vs. all reviews from ...)\n",
    "5. What is your data? (i.e. newswire, tweets, books, blogs, etc)\n",
    "6. Who produced the data? (who were the authors of the text? Your answer might be a specific person or a particular group of people)"
   ]
  },
  {
   "cell_type": "markdown",
   "metadata": {},
   "source": [
    "1. I got my data from online. I searched for a book I read, found the pdf and copy and pasted all the text into a pdf.\n",
    "2. The data was from a book so someone wrote the book and a publishing company published the book. Books are typically found online somewhere as a pdf.\n",
    "3. The dataset is quite large since it was a book. Books usually contain around 50,000 to 100,000 words or even more. This book has 4406 lines and 73796 tokens.\n",
    "4. My dataset contains most of the text from a book. I didn't include the publishing info or the afterward. \n",
    "5. This book is named Classroom of the Elite Y2 V6. \n",
    "6. Syougo Kinugasa wrote the original book, however, this is the official translation which is done by Seven Seas Entertainment."
   ]
  }
 ],
 "metadata": {
  "kernelspec": {
   "display_name": "Python 3",
   "language": "python",
   "name": "python3"
  },
  "language_info": {
   "codemirror_mode": {
    "name": "ipython",
    "version": 3
   },
   "file_extension": ".py",
   "mimetype": "text/x-python",
   "name": "python",
   "nbconvert_exporter": "python",
   "pygments_lexer": "ipython3",
   "version": "3.10.9"
  },
  "orig_nbformat": 4
 },
 "nbformat": 4,
 "nbformat_minor": 2
}
