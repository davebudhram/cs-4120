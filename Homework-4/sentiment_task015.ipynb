{
 "cells": [
  {
   "cell_type": "markdown",
   "metadata": {},
   "source": [
    "Homework 4: Sentiment Analysis - Task 0, Task 1, Task 5 (all primarily written tasks)\n",
    "----\n",
    "\n",
    "The following instructions are only written in this notebook but apply to all notebooks and `.py` files you submit for this homework.\n",
    "\n",
    "Due date: October 25th, 2023\n",
    "\n",
    "Points: \n",
    "- Task 0: 5 points\n",
    "- Task 1: 10 points\n",
    "- Task 2: 30 points\n",
    "- Task 3: 20 points\n",
    "- Task 4: 20 points\n",
    "- Task 5: 15 points\n",
    "\n",
    "Goals:\n",
    "- understand the difficulties of counting and probablities in NLP applications\n",
    "- work with real world data to build a functioning language model\n",
    "- stress test your model (to some extent)\n",
    "\n",
    "Complete in groups of: __two (pairs)__. If you prefer to work on your own, you may, but be aware that this homework has been designed as a partner project.\n",
    "\n",
    "Allowed python modules:\n",
    "- `numpy`, `matplotlib`, `keras`, `pytorch`, `nltk`, `pandas`, `sci-kit learn` (`sklearn`), `seaborn`, and all built-in python libraries (e.g. `math` and `string`)\n",
    "- if you would like to use a library not on this list, post on piazza to request permission\n",
    "- all *necessary* imports have been included for you (all imports that we used in our solution)\n",
    "\n",
    "Instructions:\n",
    "- Complete outlined problems in this notebook. \n",
    "- When you have finished, __clear the kernel__ and __run__ your notebook \"fresh\" from top to bottom. Ensure that there are __no errors__. \n",
    "    - If a problem asks for you to write code that does result in an error (as in, the answer to the problem is an error), leave the code in your notebook but commented out so that running from top to bottom does not result in any errors.\n",
    "- Double check that you have completed Task 0.\n",
    "- Submit your work on Gradescope.\n",
    "- Double check that your submission on Gradescope looks like you believe it should __and__ that all partners are included (for partner work).\n",
    "\n",
    "6120 students: complete __all__ problems.\n",
    "\n",
    "4120 students: you are not required to complete problems marked \"CS 6120 REQUIRED\". If you complete these you will not get extra credit. We will not take points off if you attempt these problems and do not succeed."
   ]
  },
  {
   "cell_type": "markdown",
   "metadata": {},
   "source": [
    "Names & Sections\n",
    "----\n",
    "Names: Dave Budhram(4120), Akshay Dupuguntla(4120) "
   ]
  },
  {
   "cell_type": "markdown",
   "metadata": {},
   "source": [
    "Task 0: Name, References, Reflection (5 points)\n",
    "---\n",
    "\n",
    "References\n",
    "---\n",
    "List the resources you consulted to complete this homework here. Write one sentence per resource about what it provided to you. If you consulted no references to complete your assignment, write a brief sentence stating that this is the case and why it was the case for you.\n",
    "\n",
    "(Example)\n",
    "- https://docs.python.org/3/tutorial/datastructures.html\n",
    "    - Read about the the basics and syntax for data structures in python.\n",
    "\n",
    "AI Collaboration\n",
    "---\n",
    "Following the *AI Collaboration Policy* in the syllabus, please cite any LLMs that you used here and briefly describe what you used them for. Additionally, provide comments in-line identifying the specific sections that you used LLMs on, if you used them towards the generation of any of your answers.\n",
    "\n",
    "__NEW__: Do not include nested list comprehensions supplied by AI collaborators — all nested lists comprehensions __must__ be re-written.\n",
    "\n",
    "Reflection\n",
    "----\n",
    "Answer the following questions __after__ you complete this assignment (no more than 1 sentence per question required, this section is graded on completion):\n",
    "\n",
    "1. Does this work reflect your best effort?\n",
    "2. What was/were the most challenging part(s) of the assignment?\n",
    "3. If you want feedback, what function(s) or problem(s) would you like feedback on and why?\n",
    "4. Briefly reflect on how your partnership functioned--who did which tasks, how was the workload on each of you individually as compared to the previous homeworks, etc."
   ]
  },
  {
   "cell_type": "markdown",
   "metadata": {},
   "source": [
    "Task 1: Provided Data Write-Up (10 points)\n",
    "---\n",
    "\n",
    "Every time you use a data set in an NLP application (or in any software application), you should be able to answer a set of questions about that data. Answer these now. Default to no more than 1 sentence per question needed. If more explanation is necessary, do give it."
   ]
  },
  {
   "cell_type": "markdown",
   "metadata": {},
   "source": [
    "This is about the __provided__ movie review data set.\n",
    "\n",
    "1. Where did you get the data from? The provided dataset(s) were sub-sampled from https://www.kaggle.com/datasets/lakshmi25npathi/imdb-dataset-of-50k-movie-reviews Kaggle\n",
    "2. (1 pt) How was the data collected (where did the people acquiring the data get it from and how)? The data was collected from IMBd and __(FIX ME)they opened up every review and hand copied each one.__\n",
    "3. (2 pts) How large is the dataset (answer for both the train and the dev set, separately)? (# reviews, # tokens in both the train and dev sets)\n",
    "1800 reviews \n",
    "481818 tokens\n",
    "tokens\n",
    "4. (1 pt) What is your data? (i.e. newswire, tweets, books, blogs, etc)\n",
    "Movie reviews\n",
    "5. (1 pt) Who produced the data? (who were the authors of the text? Your answer might be a specific person or a particular group of people)\n",
    "IMBd users/reviewers\n",
    "6. (2 pts) What is the distribution of labels in the data (answer for both the train and the dev set, separately)?\n",
    "\n",
    "7. (2 pts) How large is the vocabulary (answer for both the train and the dev set, separately)?\n",
    "8. (1 pt) How big is the overlap between the vocabulary for the train and dev set?"
   ]
  },
  {
   "cell_type": "code",
   "execution_count": 1,
   "metadata": {},
   "outputs": [
    {
     "name": "stderr",
     "output_type": "stream",
     "text": [
      "[nltk_data] Downloading package punkt to\n",
      "[nltk_data]     /Users/davebudhram/nltk_data...\n",
      "[nltk_data]   Package punkt is already up-to-date!\n"
     ]
    },
    {
     "name": "stdout",
     "output_type": "stream",
     "text": [
      "481818\n",
      "1800\n"
     ]
    }
   ],
   "source": [
    "# our utility functions\n",
    "# RESTART your jupyter notebook kernel if you make changes to this file\n",
    "import sentiment_utils as sutils\n",
    "import nltk\n",
    "import pandas as pd\n",
    "\n",
    "def read_file(path: str) -> list:\n",
    "  \"\"\"\n",
    "  Reads the contents of a file in line by line.\n",
    "  Args:\n",
    "    path (str): the location of the file to read\n",
    "\n",
    "  Returns:\n",
    "    list: list of strings, the contents of the file\n",
    "  \"\"\"\n",
    "  # PROVIDED\n",
    "  f = open(path, \"r\", encoding=\"utf-8\")\n",
    "  contents = f.readlines()\n",
    "  f.close()\n",
    "  return contents\n",
    "movie_reviews_train = read_file('movie_reviews_train.txt')\n",
    "movie_reviews_dev = read_file('movie_reviews_dev.txt')\n",
    "movie_reviews_train_count = len(movie_reviews_train)\n",
    "movie_reviews_dev_count = len(movie_reviews_dev)\n",
    "movie_reviews = []\n",
    "for review in movie_reviews_train:\n",
    "  tokens = nltk.word_tokenize(review)\n",
    "  movie_reviews+= tokens[1:]\n",
    "for review in movie_reviews_dev:\n",
    "  tokens = nltk.word_tokenize(review)\n",
    "  movie_reviews+= tokens[1:]\n",
    "\n",
    "print(len(movie_reviews))\n",
    "print(movie_reviews_train_count+ movie_reviews_dev_count)\n"
   ]
  },
  {
   "cell_type": "code",
   "execution_count": 30,
   "metadata": {},
   "outputs": [
    {
     "data": {
      "text/html": [
       "<div>\n",
       "<style scoped>\n",
       "    .dataframe tbody tr th:only-of-type {\n",
       "        vertical-align: middle;\n",
       "    }\n",
       "\n",
       "    .dataframe tbody tr th {\n",
       "        vertical-align: top;\n",
       "    }\n",
       "\n",
       "    .dataframe thead th {\n",
       "        text-align: right;\n",
       "    }\n",
       "</style>\n",
       "<table border=\"1\" class=\"dataframe\">\n",
       "  <thead>\n",
       "    <tr style=\"text-align: right;\">\n",
       "      <th></th>\n",
       "      <th>ID</th>\n",
       "      <th>Review</th>\n",
       "      <th>Label</th>\n",
       "    </tr>\n",
       "  </thead>\n",
       "  <tbody>\n",
       "    <tr>\n",
       "      <th>0</th>\n",
       "      <td>ID-38024</td>\n",
       "      <td>Van Dien must cringe with embarrassment at the...</td>\n",
       "      <td>0</td>\n",
       "    </tr>\n",
       "    <tr>\n",
       "      <th>1</th>\n",
       "      <td>ID-35229</td>\n",
       "      <td>Its spelled S-L-A-S-H-E-R-S. I was happy when ...</td>\n",
       "      <td>0</td>\n",
       "    </tr>\n",
       "    <tr>\n",
       "      <th>2</th>\n",
       "      <td>ID-27745</td>\n",
       "      <td>My jaw fell so many times watching this flick,...</td>\n",
       "      <td>0</td>\n",
       "    </tr>\n",
       "    <tr>\n",
       "      <th>3</th>\n",
       "      <td>ID-39938</td>\n",
       "      <td>The belief in the Big Other as an invisible po...</td>\n",
       "      <td>1</td>\n",
       "    </tr>\n",
       "    <tr>\n",
       "      <th>4</th>\n",
       "      <td>ID-8880</td>\n",
       "      <td>INSPECTOR GADGET (1999) **Starring: Matthew Br...</td>\n",
       "      <td>0</td>\n",
       "    </tr>\n",
       "  </tbody>\n",
       "</table>\n",
       "</div>"
      ],
      "text/plain": [
       "         ID                                             Review  Label\n",
       "0  ID-38024  Van Dien must cringe with embarrassment at the...      0\n",
       "1  ID-35229  Its spelled S-L-A-S-H-E-R-S. I was happy when ...      0\n",
       "2  ID-27745  My jaw fell so many times watching this flick,...      0\n",
       "3  ID-39938  The belief in the Big Other as an invisible po...      1\n",
       "4   ID-8880  INSPECTOR GADGET (1999) **Starring: Matthew Br...      0"
      ]
     },
     "execution_count": 30,
     "metadata": {},
     "output_type": "execute_result"
    }
   ],
   "source": [
    "import pandas as pd\n",
    "train_file = 'movie_reviews_train.txt'\n",
    "dev_file = 'movie_reviews_dev.txt'\n",
    "column_names = [\"ID\", \"Review\", \"Label\"]\n",
    "df = pd.read_csv(train_file, delimiter='\\t', header=None)\n",
    "df = df.rename(columns={0: 'ID', 1: 'Review', 2: 'Label'})\n",
    "df.head()\n"
   ]
  },
  {
   "cell_type": "code",
   "execution_count": null,
   "metadata": {},
   "outputs": [],
   "source": [
    "# Feel free to write code to help answer the above questions"
   ]
  },
  {
   "cell_type": "markdown",
   "metadata": {},
   "source": [
    "Task 5: Model Evaluation (15 points)\n",
    "---\n",
    "Save your three graph files for the __best__ configurations that you found with your models using the `plt.savefig(filename)` command. The `bbox_inches` optional parameter will help you control how much whitespace outside of the graph is in your resulting image.\n",
    "Run your each notebook containing a classifier 3 times, resulting in __NINE__ saved graphed (don't just overwrite your previous ones).\n",
    "\n",
    "You will turn in all of these files.\n",
    "\n",
    "10 points in this section are allocated for having all nine graphs legible, properly labeled, and present.\n"
   ]
  },
  {
   "cell_type": "markdown",
   "metadata": {},
   "source": [
    "\n",
    "\n",
    "1. (1 pt) When using __10%__ of your data, which model had the highest f1 score?\n",
    "2. (1 pt) Which classifier had the most __consistent__ performance (that is, which classifier had the least variation across all three graphs you have for it -- no need to mathematically calculate this, you can just look at the graphs)?\n",
    "3. (1 pt) For each model, what percentage of training data resulted in the highest f1 score?\n",
    "    1. Naive Bayes:\n",
    "    2. Logistic Regression:\n",
    "    3. Neural Net:\n",
    "4. (2 pts) Which model, if any, appeared to overfit the training data the most? Why?\n"
   ]
  },
  {
   "cell_type": "markdown",
   "metadata": {},
   "source": [
    "6120 REQUIRED\n",
    "----\n",
    "\n",
    "Find a second data set that is labeled for sentiment from a different domain (not movie reivews). Rerun your notebook with this data (you should set up your notebook so that you only need to change the paths and possibly run a different pre-processing function on the data). Note that you will want binary labels.\n",
    "\n",
    "Answer the regular data questions for your new data set\n",
    "----\n",
    "1. Where did you get the data from?\n",
    "2. How was the data collected (where did the people acquiring the data get it from and how)?\n",
    "3. How large is the dataset (answer for both the train and the dev set, separately)? (# reviews, # tokens in both the train and dev sets)\n",
    "4. What is your data? (i.e. newswire, tweets, books, blogs, etc)\n",
    "5. Who produced the data? (who were the authors of the text? Your answer might be a specific person or a particular group of people)\n",
    "6. What is the distribution of labels in the data (answer for both the train and the dev set, separately)?\n",
    "7. How large is the vocabulary (answer for both the train and the dev set, separately)?\n",
    "8. How big is the overlap between the vocabulary for the train and dev set?\n",
    "\n",
    "Answer the model evaluation questions for your new data set\n",
    "----\n",
    "1. When using __10%__ of your data, which model had the highest f1 score?\n",
    "2. Which classifier had the most __consistent__ performance (that is, which classifier had the least variation across all three graphs you have for it -- no need to mathematically calculate this, you can just look at the graphs)?\n",
    "3. For each model, what percentage of training data resulted in the highest f1 score?\n",
    "    1. Naive Bayes:\n",
    "    2. Logistic Regression:\n",
    "    3. Neural Net:\n",
    "4. Which model, if any, appeared to overfit the training data the most? Why?"
   ]
  },
  {
   "cell_type": "code",
   "execution_count": null,
   "metadata": {},
   "outputs": [],
   "source": [
    "# any code you need to write here"
   ]
  }
 ],
 "metadata": {
  "kernelspec": {
   "display_name": "base",
   "language": "python",
   "name": "python3"
  },
  "language_info": {
   "codemirror_mode": {
    "name": "ipython",
    "version": 3
   },
   "file_extension": ".py",
   "mimetype": "text/x-python",
   "name": "python",
   "nbconvert_exporter": "python",
   "pygments_lexer": "ipython3",
   "version": "3.10.13"
  },
  "orig_nbformat": 4
 },
 "nbformat": 4,
 "nbformat_minor": 2
}
