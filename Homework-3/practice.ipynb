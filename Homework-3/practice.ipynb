{
 "cells": [
  {
   "cell_type": "code",
   "execution_count": 28,
   "metadata": {},
   "outputs": [
    {
     "name": "stdout",
     "output_type": "stream",
     "text": [
      "False\n"
     ]
    }
   ],
   "source": [
    "one_tuple = ('hi',)\n",
    "one_tuple_2 = ('hi')\n",
    "print(one_tuple == one_tuple_2)\n",
    "\n"
   ]
  },
  {
   "cell_type": "markdown",
   "metadata": {},
   "source": []
  },
  {
   "cell_type": "code",
   "execution_count": 22,
   "metadata": {},
   "outputs": [
    {
     "name": "stdout",
     "output_type": "stream",
     "text": [
      "['Dave' 'was' 'here']\n",
      "['Dave', 'was', 'here']\n"
     ]
    }
   ],
   "source": [
    "import numpy as np\n",
    "print(np.array(trigram))\n",
    "sentence = []\n",
    "sentence.extend(np.array(trigram))\n",
    "print(sentence)"
   ]
  },
  {
   "cell_type": "code",
   "execution_count": 25,
   "metadata": {},
   "outputs": [
    {
     "ename": "TypeError",
     "evalue": "choice() got an unexpected keyword argument 'numSamples'",
     "output_type": "error",
     "traceback": [
      "\u001b[0;31m---------------------------------------------------------------------------\u001b[0m",
      "\u001b[0;31mTypeError\u001b[0m                                 Traceback (most recent call last)",
      "\u001b[1;32m/Users/davebudhram/Documents/Northeastern/CS4120/Homework-3/practice.ipynb Cell 4\u001b[0m line \u001b[0;36m7\n\u001b[1;32m      <a href='vscode-notebook-cell:/Users/davebudhram/Documents/Northeastern/CS4120/Homework-3/practice.ipynb#W3sZmlsZQ%3D%3D?line=3'>4</a>\u001b[0m data_array \u001b[39m=\u001b[39m np\u001b[39m.\u001b[39marray(data)\n\u001b[1;32m      <a href='vscode-notebook-cell:/Users/davebudhram/Documents/Northeastern/CS4120/Homework-3/practice.ipynb#W3sZmlsZQ%3D%3D?line=5'>6</a>\u001b[0m \u001b[39m# Use np.random.choice on the NumPy array\u001b[39;00m\n\u001b[0;32m----> <a href='vscode-notebook-cell:/Users/davebudhram/Documents/Northeastern/CS4120/Homework-3/practice.ipynb#W3sZmlsZQ%3D%3D?line=6'>7</a>\u001b[0m random_choice \u001b[39m=\u001b[39m np\u001b[39m.\u001b[39;49mrandom\u001b[39m.\u001b[39;49mchoice(data_array, numSamples\u001b[39m=\u001b[39;49m\u001b[39m4\u001b[39;49m)\n\u001b[1;32m      <a href='vscode-notebook-cell:/Users/davebudhram/Documents/Northeastern/CS4120/Homework-3/practice.ipynb#W3sZmlsZQ%3D%3D?line=8'>9</a>\u001b[0m \u001b[39mprint\u001b[39m(random_choice)\n",
      "File \u001b[0;32mmtrand.pyx:825\u001b[0m, in \u001b[0;36mnumpy.random.mtrand.RandomState.choice\u001b[0;34m()\u001b[0m\n",
      "\u001b[0;31mTypeError\u001b[0m: choice() got an unexpected keyword argument 'numSamples'"
     ]
    }
   ],
   "source": [
    "data = [(1, 'apple'), (2, 'banana'), (3, 'cherry'), (4, 'date')]\n",
    "\n",
    "# Convert the list of tuples to a NumPy array\n",
    "data_array = np.array(data)\n",
    "\n",
    "# Use np.random.choice on the NumPy array\n",
    "random_choice = np.random.choice(data_array, numSamples=4)\n",
    "\n",
    "print(random_choice)"
   ]
  },
  {
   "cell_type": "code",
   "execution_count": 24,
   "metadata": {},
   "outputs": [
    {
     "ename": "ValueError",
     "evalue": "a must be 1-dimensional",
     "output_type": "error",
     "traceback": [
      "\u001b[0;31m---------------------------------------------------------------------------\u001b[0m",
      "\u001b[0;31mValueError\u001b[0m                                Traceback (most recent call last)",
      "\u001b[1;32m/Users/davebudhram/Documents/Northeastern/CS4120/Homework-3/practice.ipynb Cell 5\u001b[0m line \u001b[0;36m8\n\u001b[1;32m      <a href='vscode-notebook-cell:/Users/davebudhram/Documents/Northeastern/CS4120/Homework-3/practice.ipynb#W4sZmlsZQ%3D%3D?line=4'>5</a>\u001b[0m lista_elegir_arr \u001b[39m=\u001b[39m np\u001b[39m.\u001b[39marray(lista_elegir)\n\u001b[1;32m      <a href='vscode-notebook-cell:/Users/davebudhram/Documents/Northeastern/CS4120/Homework-3/practice.ipynb#W4sZmlsZQ%3D%3D?line=6'>7</a>\u001b[0m \u001b[39m#make sure probabilities sum to 1, and if they are all the same they are not needed\u001b[39;00m\n\u001b[0;32m----> <a href='vscode-notebook-cell:/Users/davebudhram/Documents/Northeastern/CS4120/Homework-3/practice.ipynb#W4sZmlsZQ%3D%3D?line=7'>8</a>\u001b[0m choice \u001b[39m=\u001b[39m np\u001b[39m.\u001b[39;49mrandom\u001b[39m.\u001b[39;49mchoice(lista_elegir_arr, numSamples, p \u001b[39m=\u001b[39;49m \u001b[39mNone\u001b[39;49;00m)\n\u001b[1;32m      <a href='vscode-notebook-cell:/Users/davebudhram/Documents/Northeastern/CS4120/Homework-3/practice.ipynb#W4sZmlsZQ%3D%3D?line=8'>9</a>\u001b[0m \u001b[39mprint\u001b[39m(choice)\n",
      "File \u001b[0;32mmtrand.pyx:930\u001b[0m, in \u001b[0;36mnumpy.random.mtrand.RandomState.choice\u001b[0;34m()\u001b[0m\n",
      "\u001b[0;31mValueError\u001b[0m: a must be 1-dimensional"
     ]
    }
   ],
   "source": [
    "numSamples = 2    \n",
    "probabilit = [0.333, 0.333, 0.333] \n",
    "lista_elegir = [(3, 3), (3, 4), (3, 5)]\n",
    "\n",
    "lista_elegir_arr = np.array(lista_elegir)\n",
    "\n",
    "#make sure probabilities sum to 1, and if they are all the same they are not needed\n",
    "choice = np.random.choice(lista_elegir_arr, numSamples, p = None, numSamples=len())\n",
    "print(choice)"
   ]
  }
 ],
 "metadata": {
  "kernelspec": {
   "display_name": "Python 3",
   "language": "python",
   "name": "python3"
  },
  "language_info": {
   "codemirror_mode": {
    "name": "ipython",
    "version": 3
   },
   "file_extension": ".py",
   "mimetype": "text/x-python",
   "name": "python",
   "nbconvert_exporter": "python",
   "pygments_lexer": "ipython3",
   "version": "3.10.9"
  },
  "orig_nbformat": 4
 },
 "nbformat": 4,
 "nbformat_minor": 2
}
